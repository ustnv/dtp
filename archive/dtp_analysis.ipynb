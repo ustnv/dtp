{
 "cells": [
  {
   "cell_type": "code",
   "execution_count": null,
   "metadata": {
    "collapsed": true
   },
   "outputs": [],
   "source": [
    "import json\n",
    "\n",
    "import pandas as pd #библиотека для анализа табличных данных\n",
    "pd.set_option('display.max_columns', 100) # ограничение на вывод таблиц - количество колонок\n",
    "pd.set_option('display.max_rows', 100) # ограничение на вывод таблиц - количество строк"
   ]
  },
  {
   "cell_type": "markdown",
   "metadata": {},
   "source": [
    "## Импорт данных"
   ]
  },
  {
   "cell_type": "code",
   "execution_count": null,
   "metadata": {
    "collapsed": false
   },
   "outputs": [],
   "source": [
    "with open(\"auto-crashes.json\") as data_file:    \n",
    "    data = json.load(data_file)"
   ]
  },
  {
   "cell_type": "code",
   "execution_count": null,
   "metadata": {
    "collapsed": false
   },
   "outputs": [],
   "source": [
    "data[0]"
   ]
  },
  {
   "cell_type": "code",
   "execution_count": null,
   "metadata": {
    "collapsed": true
   },
   "outputs": [],
   "source": [
    "df = pd.DataFrame(data)\n",
    "df = pd.concat([df.drop(['infoDtp'], axis=1), df['infoDtp'].apply(pd.Series)], axis=1) \n",
    "\n",
    "df['datetime'] = df[['date', 'Time']].apply(lambda x: ' '.join(x), axis=1)\n",
    "df['datetime'] = pd.to_datetime(df['datetime'])\n",
    "\n",
    "df['week_day'] = df['datetime'].apply(lambda x: x.strftime('%A'))\n",
    "week_day_dict = {'Monday':\"1-Monday\", 'Tuesday':\"2-Tuesday\", 'Wednesday':\"3-Wednesday\", 'Thursday':\"4-Thursday\", 'Friday':\"5-Friday\", 'Saturday':\"6-Saturday\", 'Sunday':\"7-Sunday\"} \n",
    "weekend_day_dict = {'Monday':\"Workday\", 'Tuesday':\"Workday\", 'Wednesday':\"Workday\", 'Thursday':\"Workday\", 'Friday':\"Workday\", 'Saturday':\"Weekend\", 'Sunday':\"Weekend\"} \n",
    "df['weekend'] = df['week_day'].map(weekend_day_dict)\n",
    "df['week_day'] = df['week_day'].map(week_day_dict)\n",
    "df['day'] = df['datetime'].apply(lambda x: x.strftime('%d'))\n",
    "df['hour'] = df['datetime'].apply(lambda x: x.strftime('%H'))\n",
    "df['month'] = df['datetime'].apply(lambda x: x.strftime('%m'))\n",
    "df['year'] = df['datetime'].apply(lambda x: x.strftime('%Y'))\n",
    "df['n'] = 1"
   ]
  },
  {
   "cell_type": "code",
   "execution_count": null,
   "metadata": {
    "collapsed": false
   },
   "outputs": [],
   "source": [
    "df"
   ]
  },
  {
   "cell_type": "markdown",
   "metadata": {},
   "source": [
    "## Анализ табличных данных"
   ]
  },
  {
   "cell_type": "markdown",
   "metadata": {},
   "source": [
    "ДТП по типу"
   ]
  },
  {
   "cell_type": "code",
   "execution_count": null,
   "metadata": {
    "collapsed": false
   },
   "outputs": [],
   "source": [
    "df['DTP_V'].value_counts()"
   ]
  },
  {
   "cell_type": "markdown",
   "metadata": {},
   "source": [
    "ДТП по улицам"
   ]
  },
  {
   "cell_type": "code",
   "execution_count": null,
   "metadata": {
    "collapsed": false,
    "scrolled": true
   },
   "outputs": [],
   "source": [
    "df['street'].value_counts()"
   ]
  },
  {
   "cell_type": "markdown",
   "metadata": {},
   "source": [
    "ДТП по годам"
   ]
  },
  {
   "cell_type": "code",
   "execution_count": null,
   "metadata": {
    "collapsed": false
   },
   "outputs": [],
   "source": [
    "df['year'].value_counts()"
   ]
  },
  {
   "cell_type": "markdown",
   "metadata": {},
   "source": [
    "ДТП по типу/смертности"
   ]
  },
  {
   "cell_type": "code",
   "execution_count": null,
   "metadata": {
    "collapsed": false
   },
   "outputs": [],
   "source": [
    "pd.DataFrame(df.pivot_table(aggfunc=sum, values=\"POG\", columns = \"DTP_V\")).sort_values(\"POG\",ascending=False)"
   ]
  },
  {
   "cell_type": "markdown",
   "metadata": {},
   "source": [
    "## Анализ иерархичных данных"
   ]
  },
  {
   "cell_type": "markdown",
   "metadata": {},
   "source": [
    "Выделяем ДТП с определенными нарушениями - пьянка"
   ]
  },
  {
   "cell_type": "code",
   "execution_count": null,
   "metadata": {
    "collapsed": false,
    "scrolled": true
   },
   "outputs": [],
   "source": [
    "violation_types = set()\n",
    "\n",
    "for dtp in data:\n",
    "    for ts_info in dtp['infoDtp']['ts_info']:\n",
    "        for ts_uch in ts_info['ts_uch']: \n",
    "            for violation in (ts_uch['NPDD'] + ts_uch['SOP_NPDD']):\n",
    "                violation_types.add(violation)\n",
    "                \n",
    "violation_types"
   ]
  },
  {
   "cell_type": "code",
   "execution_count": null,
   "metadata": {
    "collapsed": false
   },
   "outputs": [],
   "source": [
    "def check_drunk_drivers(row):\n",
    "    for ts_info in row['ts_info']:\n",
    "        for ts_uch in ts_info['ts_uch']: \n",
    "            if ts_uch['K_UCH'] == \"Водитель\":\n",
    "                for violation in (ts_uch['NPDD'] + ts_uch['SOP_NPDD']):\n",
    "                    if \"опьянения\" in violation:\n",
    "                        return True\n",
    "                    \n",
    "    return False\n",
    "    \n",
    "    \n",
    "df['drunk_drivers'] = df.apply(check_drunk_drivers, axis=1)"
   ]
  },
  {
   "cell_type": "code",
   "execution_count": null,
   "metadata": {
    "collapsed": false
   },
   "outputs": [],
   "source": [
    "df[\"drunk_drivers\"].value_counts()"
   ]
  },
  {
   "cell_type": "code",
   "execution_count": null,
   "metadata": {
    "collapsed": false
   },
   "outputs": [],
   "source": [
    "pd.DataFrame(df.pivot_table(aggfunc=sum, values=\"POG\", columns = \"drunk_drivers\")).sort_values(\"POG\",ascending=False)"
   ]
  },
  {
   "cell_type": "markdown",
   "metadata": {},
   "source": [
    "Выделяем долю водителей без ОСАГО по годам"
   ]
  },
  {
   "cell_type": "code",
   "execution_count": null,
   "metadata": {
    "collapsed": false
   },
   "outputs": [],
   "source": [
    "def check_osago_drivers(row):\n",
    "    osago_count = 0\n",
    "    for ts_info in row['ts_info']:\n",
    "        for ts_uch in ts_info['ts_uch']: \n",
    "            if ts_uch['K_UCH'] == \"Водитель\":\n",
    "                for violation in (ts_uch['NPDD'] + ts_uch['SOP_NPDD']):\n",
    "                    if \"ОСАГО\" in violation:\n",
    "                        osago_count = osago_count + 1\n",
    "            \n",
    "    return osago_count\n",
    "    \n",
    "    \n",
    "df['osago_drivers'] = df.apply(check_osago_drivers, axis=1)"
   ]
  },
  {
   "cell_type": "code",
   "execution_count": null,
   "metadata": {
    "collapsed": false
   },
   "outputs": [],
   "source": [
    "kts = df.pivot_table(columns=[\"year\"], aggfunc=sum, values=\"K_TS\")\n",
    "kts_no_osago = df.pivot_table(columns=[\"year\"], aggfunc=sum,values=\"osago_drivers\")\n",
    "osago_drivers = pd.concat([kts, kts_no_osago], axis=1)\n",
    "osago_drivers['normalize'] = osago_drivers['osago_drivers']/osago_drivers['K_TS']\n",
    "osago_drivers"
   ]
  },
  {
   "cell_type": "code",
   "execution_count": null,
   "metadata": {
    "collapsed": true
   },
   "outputs": [],
   "source": []
  }
 ],
 "metadata": {
  "kernelspec": {
   "display_name": "Python 3",
   "language": "python",
   "name": "python3"
  },
  "language_info": {
   "codemirror_mode": {
    "name": "ipython",
    "version": 3
   },
   "file_extension": ".py",
   "mimetype": "text/x-python",
   "name": "python",
   "nbconvert_exporter": "python",
   "pygments_lexer": "ipython3",
   "version": "3.5.2"
  }
 },
 "nbformat": 4,
 "nbformat_minor": 1
}
