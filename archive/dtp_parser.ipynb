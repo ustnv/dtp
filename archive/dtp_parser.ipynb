{
 "cells": [
  {
   "cell_type": "code",
   "execution_count": null,
   "metadata": {
    "collapsed": true
   },
   "outputs": [],
   "source": [
    "import requests # запросы к сайту с данными\n",
    "from bs4 import BeautifulSoup # обработка сайта\n",
    "import json # обработка скачиваемых данных\n",
    "import re # обработка текста и сайта\n",
    "from ast import literal_eval# обработка текста\n",
    "\n",
    "from tqdm import tqdm_notebook #progress bar"
   ]
  },
  {
   "cell_type": "code",
   "execution_count": null,
   "metadata": {
    "collapsed": true
   },
   "outputs": [],
   "source": [
    "url = \"http://stat.gibdd.ru/\""
   ]
  },
  {
   "cell_type": "markdown",
   "metadata": {},
   "source": [
    "# Скачиваем регионы"
   ]
  },
  {
   "cell_type": "code",
   "execution_count": null,
   "metadata": {
    "collapsed": false
   },
   "outputs": [],
   "source": [
    "regions = {}\n",
    "\n",
    "# делаем запрос к stat.gibdd.ru\n",
    "response = requests.get(url)\n",
    "soup = BeautifulSoup(response.text, 'html.parser')          \n",
    "\n",
    "#ищем скрипт с кодами ОКТМО регионов и выкачиваем их\n",
    "scripts = soup.find_all(\"script\")\n",
    "\n",
    "for script in scripts:\n",
    "    if script.string is not None and \"downloadRegListData\" in script.string:\n",
    "        string = script.string\n",
    "        p = re.compile(r\"downloadRegListData = (.*?);\", re.MULTILINE)\n",
    "        m = p.search(string)\n",
    "        data = m.groups()[0]\n",
    "        jdata = json.loads(data)\n",
    "        for federal_district in jdata[0][\"Nodes\"]:\n",
    "            for region in federal_district[\"Nodes\"]:\n",
    "                regions[region['Text']] = region['Value']\n",
    "\n",
    "                \n",
    "#делаем запросы по регионам и качаем коды ОКТМО для районов и городов\n",
    "for region in tqdm_notebook(regions):\n",
    "    region_code = regions[region]\n",
    "    \n",
    "    payload = {\n",
    "        \"maptype\":1,\n",
    "        \"region\":region_code,\n",
    "        \"pok\":\"1\"\n",
    "    }\n",
    "    \n",
    "    regions[region] = []\n",
    "    \n",
    "    area_request = requests.post(\"http://stat.gibdd.ru/map/getMainMapData\", json=payload)\n",
    "    area_response = area_request.json()['metabase']\n",
    "    export = json.loads(literal_eval(area_response)[0]['maps'])\n",
    "    for area in export:\n",
    "        regions[region].append({\"region\":region,\"area\":area[\"name\"],\"region_code\":region_code,\"area_code\":area[\"id\"]})\n",
    "\n",
    "with open(\"regions.json\", 'w') as data_file:\n",
    "    json.dump(regions, data_file, ensure_ascii=False)"
   ]
  },
  {
   "cell_type": "markdown",
   "metadata": {},
   "source": [
    "# Качаем карточки ДТП по районам"
   ]
  },
  {
   "cell_type": "code",
   "execution_count": null,
   "metadata": {
    "collapsed": false
   },
   "outputs": [],
   "source": [
    "with open(\"regions.json\") as data_file:    \n",
    "    regions = json.load(data_file)\n",
    "        \n",
    "# искомые даты в формате месяц.год\n",
    "dates = [\n",
    "    \"01.2015\",\n",
    "    \"02.2015\",\n",
    "    \"03.2015\",\n",
    "    \"04.2015\",\n",
    "    \"05.2015\",\n",
    "    \"06.2015\",\n",
    "    \"07.2015\",\n",
    "    \"08.2015\",\n",
    "    \"09.2015\",\n",
    "    \"10.2015\",\n",
    "    \"11.2015\",\n",
    "    \"12.2015\",\n",
    "    \"01.2016\",\n",
    "    \"02.2016\",\n",
    "    \"03.2016\",\n",
    "    \"04.2016\",\n",
    "    \"05.2016\",\n",
    "    \"06.2016\",\n",
    "    \"07.2016\",\n",
    "    \"08.2016\",\n",
    "    \"09.2016\",\n",
    "    \"10.2016\",\n",
    "    \"11.2016\",\n",
    "    \"12.2016\",\n",
    "    \"01.2017\",\n",
    "    \"02.2017\",\n",
    "    \"03.2017\",\n",
    "    \"04.2017\",\n",
    "    \"05.2017\",\n",
    "    \"06.2017\",\n",
    "    \"07.2017\",\n",
    "    \"08.2017\",\n",
    "    \"09.2017\",\n",
    "    \"10.2017\",\n",
    "    \"11.2017\",\n",
    "    \"12.2017\"\n",
    "]"
   ]
  },
  {
   "cell_type": "code",
   "execution_count": null,
   "metadata": {
    "collapsed": false
   },
   "outputs": [],
   "source": [
    "# функция импорта данных со stat.gibdd.ru\n",
    "def get_crashes_data(region_name, region_code, area_name, area_code, dates):\n",
    "    local_crashes = []\n",
    "    \n",
    "    for date in tqdm_notebook(dates, leave=False, desc=area_name):\n",
    "        payload = {}\n",
    "\n",
    "        payload[\"data\"] = '{\"date\":[\"MONTHS:' + date + '\"],\"ParReg\":\"' + region_code + '\",\"order\":{\"type\":\"1\",\"fieldName\":\"dat\"},\"reg\":\"' + area_code + '\",\"ind\":\"1\",\"st\":\"1\",\"en\":\"10000\"}'\n",
    "        \n",
    "        response = requests.post(\"http://stat.gibdd.ru/map/getDTPCardData\", json=payload)\n",
    "        \n",
    "        try:\n",
    "            response = response.json()\n",
    "            export = literal_eval(response['data'])\n",
    "            local_crashes.extend(export['tab'])\n",
    "        except:\n",
    "            pass\n",
    "\n",
    "    for i in local_crashes:\n",
    "        i['region'] = region_name\n",
    "        i['area'] = area_name\n",
    "        \n",
    "    return local_crashes"
   ]
  },
  {
   "cell_type": "code",
   "execution_count": null,
   "metadata": {
    "collapsed": false
   },
   "outputs": [],
   "source": [
    "auto_crashes = []\n",
    "\n",
    "for region in tqdm_notebook(regions,desc=\"Россия\"):\n",
    "    # фильтр по региону\n",
    "    if region == \"Алтайский край\":\n",
    "        for area in tqdm_notebook(regions[region],desc=region,leave=False):\n",
    "            # фильтр по району\n",
    "            if area['area'] == \"г.Барнаул\":\n",
    "                auto_crashes.extend(get_crashes_data(region, area[\"region_code\"], area[\"area\"], area[\"area_code\"], dates))\n",
    "                \n",
    "with open(\"auto-crashes.json\", 'w') as data_file:\n",
    "    json.dump(auto_crashes, data_file, ensure_ascii=False)"
   ]
  },
  {
   "cell_type": "code",
   "execution_count": null,
   "metadata": {
    "collapsed": true
   },
   "outputs": [],
   "source": []
  }
 ],
 "metadata": {
  "kernelspec": {
   "display_name": "Python 3",
   "language": "python",
   "name": "python3"
  },
  "language_info": {
   "codemirror_mode": {
    "name": "ipython",
    "version": 3
   },
   "file_extension": ".py",
   "mimetype": "text/x-python",
   "name": "python",
   "nbconvert_exporter": "python",
   "pygments_lexer": "ipython3",
   "version": "3.5.2"
  },
  "widgets": {
   "state": {
    "f93a5ec5a03e458f868d6435b94ae88a": {
     "views": [
      {
       "cell_index": 7.0
      }
     ]
    }
   },
   "version": "1.2.0"
  }
 },
 "nbformat": 4,
 "nbformat_minor": 1
}
